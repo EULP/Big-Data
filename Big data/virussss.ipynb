{
 "cells": [
  {
   "cell_type": "code",
   "execution_count": 1,
   "id": "7905b51e",
   "metadata": {},
   "outputs": [],
   "source": [
    "import os"
   ]
  },
  {
   "cell_type": "code",
   "execution_count": 79,
   "id": "5111b1d2",
   "metadata": {},
   "outputs": [
    {
     "data": {
      "text/plain": [
       "'C:\\\\Users\\\\Yair\\\\Documents'"
      ]
     },
     "execution_count": 79,
     "metadata": {},
     "output_type": "execute_result"
    }
   ],
   "source": [
    "os.getcwd()"
   ]
  },
  {
   "cell_type": "code",
   "execution_count": 78,
   "id": "032cbe3f",
   "metadata": {},
   "outputs": [],
   "source": [
    "os.chdir('C://Users//Yair//Documents')"
   ]
  },
  {
   "cell_type": "code",
   "execution_count": 80,
   "id": "abdc8bf5",
   "metadata": {},
   "outputs": [
    {
     "data": {
      "text/plain": [
       "['.RData',\n",
       " '.Rhistory',\n",
       " '0000.txt',\n",
       " '1FinalROBO.docx',\n",
       " '2021-2 Cronograma S-014 SALINAS Yair v1.0”.xlsx',\n",
       " '2021-2 Presupuesto S-014 SALINAS Yair v1.0.xlsx',\n",
       " '3roboFINAL.docx',\n",
       " '7capas_socialmedia.txt',\n",
       " 'a1',\n",
       " 'a2',\n",
       " 'a3',\n",
       " 'a4',\n",
       " 'a5',\n",
       " 'activoTangibles_Entrepierna.xlsx',\n",
       " 'acumuladores_B',\n",
       " 'Arduino',\n",
       " 'ArduinoData',\n",
       " 'b2.ipt',\n",
       " 'biblioTesis.txt',\n",
       " 'Business idea.mp4',\n",
       " 'CANDIDATOS A LA ALCADÍA DE LIMA.docx',\n",
       " 'caso2_Yair.docx',\n",
       " 'caso3_MOD.xlsx',\n",
       " 'casoSony.pptx',\n",
       " 'CL1Filo.docx',\n",
       " 'cl1Meto.docx',\n",
       " 'CL1_IA.pptx',\n",
       " 'Codigo_POO.docx',\n",
       " 'comandsCloudera.txt',\n",
       " 'Cuanti_Cuali.docx',\n",
       " 'DatosDEP.sav',\n",
       " 'datosSHS.xlsx',\n",
       " 'desktop.ini',\n",
       " 'DiagramP.docx',\n",
       " 'DiagramP.pdf',\n",
       " 'DiagramP.txt',\n",
       " 'DIM_fact.docx',\n",
       " 'DON.docx',\n",
       " 'E4',\n",
       " 'EAGLE',\n",
       " 'Ej1',\n",
       " 'Ej13',\n",
       " 'Ej14',\n",
       " 'Ej16',\n",
       " 'Ej3',\n",
       " 'Ej4',\n",
       " 'Ej5',\n",
       " 'Ej6',\n",
       " 'Ej7',\n",
       " 'ejem9',\n",
       " 'ejemplo.png',\n",
       " 'Ejemplos__matlab',\n",
       " 'Ejemplo_IA.docx',\n",
       " 'ejemplo_MiniProyecto.docx',\n",
       " 'ejerPerceptron_Yair.docx',\n",
       " 'El VANGUARDISMO.pptx',\n",
       " 'encuesta_una ayuda al viajar.docx',\n",
       " 'expo2_wireSharkyNmap.txt',\n",
       " 'expoPM1.log',\n",
       " 'expoProberly.docx',\n",
       " 'expo_dilemaRedes.docx',\n",
       " 'Fibonacci',\n",
       " 'FinalPOOMaterial.docx',\n",
       " 'finalRedes.pkt',\n",
       " 'FOTOS',\n",
       " 'Fritzing',\n",
       " 'GCapHuman.docx',\n",
       " 'GDLRobots.docx',\n",
       " 'Grabaciones de sonido',\n",
       " 'Guía2',\n",
       " 'Guía4',\n",
       " 'Guía5',\n",
       " 'Guía6',\n",
       " 'Guía7',\n",
       " 'Guía8',\n",
       " 'Guía9',\n",
       " 'HiSuite',\n",
       " 'HowToStartAMovement.docx',\n",
       " 'hp.applications.package.appdata',\n",
       " 'hp.system.package.metadata',\n",
       " 'IAtarea.docx',\n",
       " 'IBM',\n",
       " 'IISExpress',\n",
       " 'INSIDE JOB.docx',\n",
       " 'INTRODUCING SOMEONE YOU ADMIRE.docx',\n",
       " 'Inventor',\n",
       " 'kanguro.docx',\n",
       " 'LA ECONOMÍA Y  SOCIEDAD PERUANA EN LOS 90.docx',\n",
       " 'la1',\n",
       " 'League of Legends',\n",
       " 'lecturaPM.txt',\n",
       " 'lecturaSupply.docx',\n",
       " 'linkFirebase.txt',\n",
       " 'M1',\n",
       " 'macros1.xlsm',\n",
       " 'Mantenimiento del vehículo.accdt',\n",
       " 'MaTAGENTE.pptx',\n",
       " 'MATLAB',\n",
       " 'MI FAVORITE PERUVIAN CITY.docx',\n",
       " 'Mi música',\n",
       " 'MINIproyecto',\n",
       " 'MinProy_IA.docx',\n",
       " 'Mis archivos de origen de datos',\n",
       " 'Mis imágenes',\n",
       " 'Mis vídeos',\n",
       " 'ModeloFíscoDelivPost.docx',\n",
       " 'MotoPitch.pptx',\n",
       " 'MotoTaxiRush.docx',\n",
       " 'My Web Sites',\n",
       " 'my_projectWEBOOTS',\n",
       " 'Máncora.pptx',\n",
       " 'NEW  PIECE  OF.pptx',\n",
       " 'NEW PIECE OF WEARABLE TECHNOLOGY.docx',\n",
       " 'OldVersions',\n",
       " 'Orlando_Yair.docx',\n",
       " 'PC02_YairSalinas.docx',\n",
       " 'PC1',\n",
       " 'PC2',\n",
       " 'Perfil_del_Puesto.docx',\n",
       " 'Planificacion.docx',\n",
       " 'Plantillas personalizadas de Office',\n",
       " 'Power BI Desktop',\n",
       " 'pptTesis.pptx',\n",
       " 'Presupuesto.xlsx',\n",
       " 'primerKtl.txt',\n",
       " 'progra.docx',\n",
       " 'PROYECTO DE INVERSIÓN.docx',\n",
       " 'prueba',\n",
       " 'PRÓTESIS DE MANO ROBÓTICA.pptx',\n",
       " 'R',\n",
       " 'Realmente perjudica al Perú la migración venezolana.docx',\n",
       " 'referenciasTesis.txt',\n",
       " 'ResultadoPROY.spv',\n",
       " 'ResumenFINALsoftware.docx',\n",
       " 'resumen_CL1_meto.docx',\n",
       " 'resumen_MKTG_2daParte.docx',\n",
       " 'RICK AND MORTY.pptx',\n",
       " 'script.sql',\n",
       " 'Serie',\n",
       " 'SQL Server Management Studio',\n",
       " 'Taller3_Robotica.docx',\n",
       " 'tarea1BI.docx',\n",
       " 'Tema 8.docx',\n",
       " 'temaInvestigacion.docx',\n",
       " 'TeoríaMinería.txt',\n",
       " 'TIPOS DE POLÍTICAS.docx',\n",
       " 'trabajo de estadistica pregunta 66.docx',\n",
       " 'Unity_lic.alf',\n",
       " 'va_archivo.pdf',\n",
       " 'VIDEOPRESENTATION.docx',\n",
       " 'Visual Studio 2015',\n",
       " 'Visual Studio 2019',\n",
       " 'VlcpVideoV1.0.1',\n",
       " 'xcxcx',\n",
       " 'YairSalinas_resumenPaper0222.docx',\n",
       " 'Zoom']"
      ]
     },
     "execution_count": 80,
     "metadata": {},
     "output_type": "execute_result"
    }
   ],
   "source": [
    "os.listdir()"
   ]
  },
  {
   "cell_type": "code",
   "execution_count": 83,
   "id": "53bb1371",
   "metadata": {},
   "outputs": [
    {
     "data": {
      "text/plain": [
       "str"
      ]
     },
     "execution_count": 83,
     "metadata": {},
     "output_type": "execute_result"
    }
   ],
   "source": [
    "type('a')"
   ]
  },
  {
   "cell_type": "code",
   "execution_count": 37,
   "id": "91bdc2d9",
   "metadata": {},
   "outputs": [
    {
     "data": {
      "text/plain": [
       "0"
      ]
     },
     "execution_count": 37,
     "metadata": {},
     "output_type": "execute_result"
    }
   ],
   "source": [
    "os.system('start CL2')"
   ]
  },
  {
   "cell_type": "code",
   "execution_count": 86,
   "id": "85dbf686",
   "metadata": {},
   "outputs": [
    {
     "ename": "KeyboardInterrupt",
     "evalue": "",
     "output_type": "error",
     "traceback": [
      "\u001b[1;31m---------------------------------------------------------------------------\u001b[0m",
      "\u001b[1;31mKeyboardInterrupt\u001b[0m                         Traceback (most recent call last)",
      "\u001b[1;32m<ipython-input-86-4f1e82acc396>\u001b[0m in \u001b[0;36m<module>\u001b[1;34m\u001b[0m\n\u001b[1;32m----> 1\u001b[1;33m \u001b[1;32mfor\u001b[0m \u001b[0mpath\u001b[0m\u001b[1;33m,\u001b[0m\u001b[0mcarpetas\u001b[0m\u001b[1;33m,\u001b[0m\u001b[0mfiles\u001b[0m \u001b[1;32min\u001b[0m \u001b[0mos\u001b[0m\u001b[1;33m.\u001b[0m\u001b[0mwalk\u001b[0m\u001b[1;33m(\u001b[0m\u001b[1;34m'C://Users//Yair//Documents//'\u001b[0m\u001b[1;33m)\u001b[0m\u001b[1;33m:\u001b[0m\u001b[1;33m\u001b[0m\u001b[1;33m\u001b[0m\u001b[0m\n\u001b[0m\u001b[0;32m      2\u001b[0m     \u001b[1;32mfor\u001b[0m \u001b[0mfile\u001b[0m \u001b[1;32min\u001b[0m \u001b[0mfiles\u001b[0m\u001b[1;33m:\u001b[0m\u001b[1;33m\u001b[0m\u001b[1;33m\u001b[0m\u001b[0m\n\u001b[0;32m      3\u001b[0m         \u001b[1;32mif\u001b[0m\u001b[1;33m(\u001b[0m\u001b[0mfile\u001b[0m\u001b[1;33m.\u001b[0m\u001b[0mendswith\u001b[0m\u001b[1;33m(\u001b[0m\u001b[1;34m'0.txt'\u001b[0m\u001b[1;33m)\u001b[0m\u001b[1;33m)\u001b[0m\u001b[1;33m:\u001b[0m\u001b[1;33m\u001b[0m\u001b[1;33m\u001b[0m\u001b[0m\n\u001b[0;32m      4\u001b[0m             \u001b[0mos\u001b[0m\u001b[1;33m.\u001b[0m\u001b[0msystem\u001b[0m\u001b[1;33m(\u001b[0m\u001b[1;34m'start '\u001b[0m\u001b[1;33m+\u001b[0m\u001b[0mfile\u001b[0m\u001b[1;33m)\u001b[0m\u001b[1;33m\u001b[0m\u001b[1;33m\u001b[0m\u001b[0m\n\u001b[0;32m      5\u001b[0m             \u001b[1;32mbreak\u001b[0m\u001b[1;33m\u001b[0m\u001b[1;33m\u001b[0m\u001b[0m\n",
      "\u001b[1;32m~\\.conda\\envs\\Big data\\lib\\os.py\u001b[0m in \u001b[0;36mwalk\u001b[1;34m(top, topdown, onerror, followlinks)\u001b[0m\n\u001b[0;32m    411\u001b[0m             \u001b[1;31m# above.\u001b[0m\u001b[1;33m\u001b[0m\u001b[1;33m\u001b[0m\u001b[1;33m\u001b[0m\u001b[0m\n\u001b[0;32m    412\u001b[0m             \u001b[1;32mif\u001b[0m \u001b[0mfollowlinks\u001b[0m \u001b[1;32mor\u001b[0m \u001b[1;32mnot\u001b[0m \u001b[0mislink\u001b[0m\u001b[1;33m(\u001b[0m\u001b[0mnew_path\u001b[0m\u001b[1;33m)\u001b[0m\u001b[1;33m:\u001b[0m\u001b[1;33m\u001b[0m\u001b[1;33m\u001b[0m\u001b[0m\n\u001b[1;32m--> 413\u001b[1;33m                 \u001b[1;32myield\u001b[0m \u001b[1;32mfrom\u001b[0m \u001b[0mwalk\u001b[0m\u001b[1;33m(\u001b[0m\u001b[0mnew_path\u001b[0m\u001b[1;33m,\u001b[0m \u001b[0mtopdown\u001b[0m\u001b[1;33m,\u001b[0m \u001b[0monerror\u001b[0m\u001b[1;33m,\u001b[0m \u001b[0mfollowlinks\u001b[0m\u001b[1;33m)\u001b[0m\u001b[1;33m\u001b[0m\u001b[1;33m\u001b[0m\u001b[0m\n\u001b[0m\u001b[0;32m    414\u001b[0m     \u001b[1;32melse\u001b[0m\u001b[1;33m:\u001b[0m\u001b[1;33m\u001b[0m\u001b[1;33m\u001b[0m\u001b[0m\n\u001b[0;32m    415\u001b[0m         \u001b[1;31m# Recurse into sub-directories\u001b[0m\u001b[1;33m\u001b[0m\u001b[1;33m\u001b[0m\u001b[1;33m\u001b[0m\u001b[0m\n",
      "\u001b[1;32m~\\.conda\\envs\\Big data\\lib\\os.py\u001b[0m in \u001b[0;36mwalk\u001b[1;34m(top, topdown, onerror, followlinks)\u001b[0m\n\u001b[0;32m    411\u001b[0m             \u001b[1;31m# above.\u001b[0m\u001b[1;33m\u001b[0m\u001b[1;33m\u001b[0m\u001b[1;33m\u001b[0m\u001b[0m\n\u001b[0;32m    412\u001b[0m             \u001b[1;32mif\u001b[0m \u001b[0mfollowlinks\u001b[0m \u001b[1;32mor\u001b[0m \u001b[1;32mnot\u001b[0m \u001b[0mislink\u001b[0m\u001b[1;33m(\u001b[0m\u001b[0mnew_path\u001b[0m\u001b[1;33m)\u001b[0m\u001b[1;33m:\u001b[0m\u001b[1;33m\u001b[0m\u001b[1;33m\u001b[0m\u001b[0m\n\u001b[1;32m--> 413\u001b[1;33m                 \u001b[1;32myield\u001b[0m \u001b[1;32mfrom\u001b[0m \u001b[0mwalk\u001b[0m\u001b[1;33m(\u001b[0m\u001b[0mnew_path\u001b[0m\u001b[1;33m,\u001b[0m \u001b[0mtopdown\u001b[0m\u001b[1;33m,\u001b[0m \u001b[0monerror\u001b[0m\u001b[1;33m,\u001b[0m \u001b[0mfollowlinks\u001b[0m\u001b[1;33m)\u001b[0m\u001b[1;33m\u001b[0m\u001b[1;33m\u001b[0m\u001b[0m\n\u001b[0m\u001b[0;32m    414\u001b[0m     \u001b[1;32melse\u001b[0m\u001b[1;33m:\u001b[0m\u001b[1;33m\u001b[0m\u001b[1;33m\u001b[0m\u001b[0m\n\u001b[0;32m    415\u001b[0m         \u001b[1;31m# Recurse into sub-directories\u001b[0m\u001b[1;33m\u001b[0m\u001b[1;33m\u001b[0m\u001b[1;33m\u001b[0m\u001b[0m\n",
      "\u001b[1;32m~\\.conda\\envs\\Big data\\lib\\os.py\u001b[0m in \u001b[0;36mwalk\u001b[1;34m(top, topdown, onerror, followlinks)\u001b[0m\n\u001b[0;32m    411\u001b[0m             \u001b[1;31m# above.\u001b[0m\u001b[1;33m\u001b[0m\u001b[1;33m\u001b[0m\u001b[1;33m\u001b[0m\u001b[0m\n\u001b[0;32m    412\u001b[0m             \u001b[1;32mif\u001b[0m \u001b[0mfollowlinks\u001b[0m \u001b[1;32mor\u001b[0m \u001b[1;32mnot\u001b[0m \u001b[0mislink\u001b[0m\u001b[1;33m(\u001b[0m\u001b[0mnew_path\u001b[0m\u001b[1;33m)\u001b[0m\u001b[1;33m:\u001b[0m\u001b[1;33m\u001b[0m\u001b[1;33m\u001b[0m\u001b[0m\n\u001b[1;32m--> 413\u001b[1;33m                 \u001b[1;32myield\u001b[0m \u001b[1;32mfrom\u001b[0m \u001b[0mwalk\u001b[0m\u001b[1;33m(\u001b[0m\u001b[0mnew_path\u001b[0m\u001b[1;33m,\u001b[0m \u001b[0mtopdown\u001b[0m\u001b[1;33m,\u001b[0m \u001b[0monerror\u001b[0m\u001b[1;33m,\u001b[0m \u001b[0mfollowlinks\u001b[0m\u001b[1;33m)\u001b[0m\u001b[1;33m\u001b[0m\u001b[1;33m\u001b[0m\u001b[0m\n\u001b[0m\u001b[0;32m    414\u001b[0m     \u001b[1;32melse\u001b[0m\u001b[1;33m:\u001b[0m\u001b[1;33m\u001b[0m\u001b[1;33m\u001b[0m\u001b[0m\n\u001b[0;32m    415\u001b[0m         \u001b[1;31m# Recurse into sub-directories\u001b[0m\u001b[1;33m\u001b[0m\u001b[1;33m\u001b[0m\u001b[1;33m\u001b[0m\u001b[0m\n",
      "\u001b[1;32m~\\.conda\\envs\\Big data\\lib\\os.py\u001b[0m in \u001b[0;36mwalk\u001b[1;34m(top, topdown, onerror, followlinks)\u001b[0m\n\u001b[0;32m    411\u001b[0m             \u001b[1;31m# above.\u001b[0m\u001b[1;33m\u001b[0m\u001b[1;33m\u001b[0m\u001b[1;33m\u001b[0m\u001b[0m\n\u001b[0;32m    412\u001b[0m             \u001b[1;32mif\u001b[0m \u001b[0mfollowlinks\u001b[0m \u001b[1;32mor\u001b[0m \u001b[1;32mnot\u001b[0m \u001b[0mislink\u001b[0m\u001b[1;33m(\u001b[0m\u001b[0mnew_path\u001b[0m\u001b[1;33m)\u001b[0m\u001b[1;33m:\u001b[0m\u001b[1;33m\u001b[0m\u001b[1;33m\u001b[0m\u001b[0m\n\u001b[1;32m--> 413\u001b[1;33m                 \u001b[1;32myield\u001b[0m \u001b[1;32mfrom\u001b[0m \u001b[0mwalk\u001b[0m\u001b[1;33m(\u001b[0m\u001b[0mnew_path\u001b[0m\u001b[1;33m,\u001b[0m \u001b[0mtopdown\u001b[0m\u001b[1;33m,\u001b[0m \u001b[0monerror\u001b[0m\u001b[1;33m,\u001b[0m \u001b[0mfollowlinks\u001b[0m\u001b[1;33m)\u001b[0m\u001b[1;33m\u001b[0m\u001b[1;33m\u001b[0m\u001b[0m\n\u001b[0m\u001b[0;32m    414\u001b[0m     \u001b[1;32melse\u001b[0m\u001b[1;33m:\u001b[0m\u001b[1;33m\u001b[0m\u001b[1;33m\u001b[0m\u001b[0m\n\u001b[0;32m    415\u001b[0m         \u001b[1;31m# Recurse into sub-directories\u001b[0m\u001b[1;33m\u001b[0m\u001b[1;33m\u001b[0m\u001b[1;33m\u001b[0m\u001b[0m\n",
      "\u001b[1;32m~\\.conda\\envs\\Big data\\lib\\os.py\u001b[0m in \u001b[0;36mwalk\u001b[1;34m(top, topdown, onerror, followlinks)\u001b[0m\n\u001b[0;32m    350\u001b[0m         \u001b[1;31m# Note that scandir is global in this module due\u001b[0m\u001b[1;33m\u001b[0m\u001b[1;33m\u001b[0m\u001b[1;33m\u001b[0m\u001b[0m\n\u001b[0;32m    351\u001b[0m         \u001b[1;31m# to earlier import-*.\u001b[0m\u001b[1;33m\u001b[0m\u001b[1;33m\u001b[0m\u001b[1;33m\u001b[0m\u001b[0m\n\u001b[1;32m--> 352\u001b[1;33m         \u001b[0mscandir_it\u001b[0m \u001b[1;33m=\u001b[0m \u001b[0mscandir\u001b[0m\u001b[1;33m(\u001b[0m\u001b[0mtop\u001b[0m\u001b[1;33m)\u001b[0m\u001b[1;33m\u001b[0m\u001b[1;33m\u001b[0m\u001b[0m\n\u001b[0m\u001b[0;32m    353\u001b[0m     \u001b[1;32mexcept\u001b[0m \u001b[0mOSError\u001b[0m \u001b[1;32mas\u001b[0m \u001b[0merror\u001b[0m\u001b[1;33m:\u001b[0m\u001b[1;33m\u001b[0m\u001b[1;33m\u001b[0m\u001b[0m\n\u001b[0;32m    354\u001b[0m         \u001b[1;32mif\u001b[0m \u001b[0monerror\u001b[0m \u001b[1;32mis\u001b[0m \u001b[1;32mnot\u001b[0m \u001b[1;32mNone\u001b[0m\u001b[1;33m:\u001b[0m\u001b[1;33m\u001b[0m\u001b[1;33m\u001b[0m\u001b[0m\n",
      "\u001b[1;31mKeyboardInterrupt\u001b[0m: "
     ]
    }
   ],
   "source": [
    "for path,carpetas,files in os.walk('C://Users//Yair//Documents//'):\n",
    "    for file in files:\n",
    "        if(file.endswith('0.txt')):\n",
    "            os.system('start '+file)\n",
    "            break"
   ]
  },
  {
   "cell_type": "code",
   "execution_count": 70,
   "id": "af19782f",
   "metadata": {},
   "outputs": [],
   "source": [
    "os.chdir('..')"
   ]
  },
  {
   "cell_type": "code",
   "execution_count": 3,
   "id": "de3b1bc2",
   "metadata": {},
   "outputs": [],
   "source": [
    "for i in range (3):        ## bucle 3 de cmd\n",
    "    os.system('start')"
   ]
  },
  {
   "cell_type": "code",
   "execution_count": 20,
   "id": "2dd4c4cf",
   "metadata": {},
   "outputs": [],
   "source": [
    "os.mkdir('a a a.txt')"
   ]
  },
  {
   "cell_type": "code",
   "execution_count": 51,
   "id": "368465ba",
   "metadata": {
    "scrolled": true
   },
   "outputs": [
    {
     "data": {
      "text/plain": [
       "['b1', 'b2', 'b3', 'b4', 'b5']"
      ]
     },
     "execution_count": 51,
     "metadata": {},
     "output_type": "execute_result"
    }
   ],
   "source": [
    "os.listdir()"
   ]
  },
  {
   "cell_type": "code",
   "execution_count": null,
   "id": "0be82da8",
   "metadata": {},
   "outputs": [],
   "source": []
  }
 ],
 "metadata": {
  "kernelspec": {
   "display_name": "Python 3",
   "language": "python",
   "name": "python3"
  },
  "language_info": {
   "codemirror_mode": {
    "name": "ipython",
    "version": 3
   },
   "file_extension": ".py",
   "mimetype": "text/x-python",
   "name": "python",
   "nbconvert_exporter": "python",
   "pygments_lexer": "ipython3",
   "version": "3.8.11"
  }
 },
 "nbformat": 4,
 "nbformat_minor": 5
}
