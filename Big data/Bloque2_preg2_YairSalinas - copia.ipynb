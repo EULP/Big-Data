{
 "cells": [
  {
   "cell_type": "markdown",
   "id": "5176ad40",
   "metadata": {},
   "source": [
    "## Perceptron"
   ]
  },
  {
   "cell_type": "code",
   "execution_count": 3,
   "id": "20fba3c8",
   "metadata": {},
   "outputs": [],
   "source": [
    "def fun_act(num):    # sigmoid \n",
    "    if(num>0):\n",
    "        return 1\n",
    "    else:\n",
    "        return 0"
   ]
  },
  {
   "cell_type": "code",
   "execution_count": 4,
   "id": "6c427be2",
   "metadata": {},
   "outputs": [],
   "source": [
    "# bias = 1\n",
    "\n",
    "def perceptron(x,y,alpha=0.2,etapas=3):\n",
    "\n",
    "    pesos = np.array([0.5,0.7,-0.3,0.1,0.5])\n",
    "\n",
    "    for etapa in range(etapas):\n",
    "        print(\"\\nEtapa: \",etapa+1)\n",
    "        for i in range(len(X)):\n",
    "            print(\"\\n   Iteración \", i+1,':')\n",
    "            suma = (pesos*X[i]).sum()\n",
    "            error = Y[i]-fun_act(suma)\n",
    "    \n",
    "            if(error != 0):\n",
    "            #Actualizar pesos\n",
    "                pesos = pesos +alpha*(error)*X[i]\n",
    "            print(\"\\n   Suma: \", suma)\n",
    "            print(\"   Error: \", error,('Y_real: '+str(Y[i]),'||','Y_pred: '+str(fun_act(suma))))\n",
    "            print(\"   Pesos: \", pesos)"
   ]
  },
  {
   "cell_type": "code",
   "execution_count": 5,
   "id": "dd19f893",
   "metadata": {},
   "outputs": [],
   "source": [
    "X = np.array([[1,0,0,1,1],[1,0,0,0,0],[1,0,1,1,0],[1,1,1,0,0]])\n",
    "Y = np.array([1,-1,1,-1])"
   ]
  },
  {
   "cell_type": "code",
   "execution_count": 6,
   "id": "94d5e82e",
   "metadata": {},
   "outputs": [
    {
     "name": "stdout",
     "output_type": "stream",
     "text": [
      "\n",
      "Etapa:  1\n",
      "\n",
      "   Iteración  1 :\n",
      "\n",
      "   Suma:  1.1\n",
      "   Error:  0 ('Y_real: 1', '||', 'Y_pred: 1')\n",
      "   Pesos:  [ 0.5  0.7 -0.3  0.1  0.5]\n",
      "\n",
      "   Iteración  2 :\n",
      "\n",
      "   Suma:  0.5\n",
      "   Error:  -2 ('Y_real: -1', '||', 'Y_pred: 1')\n",
      "   Pesos:  [ 0.1  0.7 -0.3  0.1  0.5]\n",
      "\n",
      "   Iteración  3 :\n",
      "\n",
      "   Suma:  -0.1\n",
      "   Error:  1 ('Y_real: 1', '||', 'Y_pred: 0')\n",
      "   Pesos:  [ 0.3  0.7 -0.1  0.3  0.5]\n",
      "\n",
      "   Iteración  4 :\n",
      "\n",
      "   Suma:  0.9\n",
      "   Error:  -2 ('Y_real: -1', '||', 'Y_pred: 1')\n",
      "   Pesos:  [-0.1  0.3 -0.5  0.3  0.5]\n",
      "\n",
      "Etapa:  2\n",
      "\n",
      "   Iteración  1 :\n",
      "\n",
      "   Suma:  0.7\n",
      "   Error:  0 ('Y_real: 1', '||', 'Y_pred: 1')\n",
      "   Pesos:  [-0.1  0.3 -0.5  0.3  0.5]\n",
      "\n",
      "   Iteración  2 :\n",
      "\n",
      "   Suma:  -0.10000000000000003\n",
      "   Error:  -1 ('Y_real: -1', '||', 'Y_pred: 0')\n",
      "   Pesos:  [-0.3  0.3 -0.5  0.3  0.5]\n",
      "\n",
      "   Iteración  3 :\n",
      "\n",
      "   Suma:  -0.5\n",
      "   Error:  1 ('Y_real: 1', '||', 'Y_pred: 0')\n",
      "   Pesos:  [-0.1  0.3 -0.3  0.5  0.5]\n",
      "\n",
      "   Iteración  4 :\n",
      "\n",
      "   Suma:  -0.10000000000000009\n",
      "   Error:  -1 ('Y_real: -1', '||', 'Y_pred: 0')\n",
      "   Pesos:  [-0.3  0.1 -0.5  0.5  0.5]\n",
      "\n",
      "Etapa:  3\n",
      "\n",
      "   Iteración  1 :\n",
      "\n",
      "   Suma:  0.7\n",
      "   Error:  0 ('Y_real: 1', '||', 'Y_pred: 1')\n",
      "   Pesos:  [-0.3  0.1 -0.5  0.5  0.5]\n",
      "\n",
      "   Iteración  2 :\n",
      "\n",
      "   Suma:  -0.30000000000000004\n",
      "   Error:  -1 ('Y_real: -1', '||', 'Y_pred: 0')\n",
      "   Pesos:  [-0.5  0.1 -0.5  0.5  0.5]\n",
      "\n",
      "   Iteración  3 :\n",
      "\n",
      "   Suma:  -0.5\n",
      "   Error:  1 ('Y_real: 1', '||', 'Y_pred: 0')\n",
      "   Pesos:  [-0.3  0.1 -0.3  0.7  0.5]\n",
      "\n",
      "   Iteración  4 :\n",
      "\n",
      "   Suma:  -0.5\n",
      "   Error:  -1 ('Y_real: -1', '||', 'Y_pred: 0')\n",
      "   Pesos:  [-0.5 -0.1 -0.5  0.7  0.5]\n"
     ]
    }
   ],
   "source": [
    "perceptron(X,Y)"
   ]
  }
 ],
 "metadata": {
  "kernelspec": {
   "display_name": "Python 3",
   "language": "python",
   "name": "python3"
  },
  "language_info": {
   "codemirror_mode": {
    "name": "ipython",
    "version": 3
   },
   "file_extension": ".py",
   "mimetype": "text/x-python",
   "name": "python",
   "nbconvert_exporter": "python",
   "pygments_lexer": "ipython3",
   "version": "3.8.11"
  }
 },
 "nbformat": 4,
 "nbformat_minor": 5
}
