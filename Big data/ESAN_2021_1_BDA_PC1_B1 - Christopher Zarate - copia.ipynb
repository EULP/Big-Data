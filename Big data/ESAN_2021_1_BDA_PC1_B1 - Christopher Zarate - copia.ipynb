{
 "cells": [
  {
   "cell_type": "markdown",
   "metadata": {},
   "source": [
    "# <center><i>Big Data Analytics - Práctica Calificada 1</i></center>\n",
    "# <center>Bloque 1"
   ]
  },
  {
   "cell_type": "markdown",
   "metadata": {},
   "source": [
    "Nombre: Christopher Zarate Quintanilla"
   ]
  },
  {
   "cell_type": "markdown",
   "metadata": {},
   "source": [
    "---"
   ]
  },
  {
   "cell_type": "markdown",
   "metadata": {},
   "source": [
    "<b>Ejercicio 1:</b> **[3 puntos]** <h2>Números Perfectos</h2>\n",
    "\n",
    "Implementar una función que reciba como parámetro un número **N**, y escriba en un archivo (perfectos.txt) los N primeros números perfectos. Por ejemplo si N = 3, se debe escribir en el archivo los números 6, 28, 496. https://es.wikipedia.org/wiki/N%C3%BAmero_perfecto"
   ]
  },
  {
   "cell_type": "code",
   "execution_count": 1,
   "metadata": {},
   "outputs": [],
   "source": [
    "import os"
   ]
  },
  {
   "cell_type": "code",
   "execution_count": 5,
   "metadata": {},
   "outputs": [],
   "source": [
    "def numperf(n):\n",
    "    l = []\n",
    "    c = 0\n",
    "    for i in range (1,n):\n",
    "        if (n%i == 0):\n",
    "            l.append(i)\n",
    "    for j in l:\n",
    "        c = c + j\n",
    "    \n",
    "    if (c == n):\n",
    "        return True\n",
    "    \n",
    "    return False"
   ]
  },
  {
   "cell_type": "code",
   "execution_count": 6,
   "metadata": {},
   "outputs": [],
   "source": [
    "def principal(num):\n",
    "    count = 0\n",
    "    numX = 1\n",
    "    f = open('perfectos.txt','w',encoding = 'utf-8')\n",
    "    while(count<num):\n",
    "        if(numperf(numX)):\n",
    "            count = count + 1\n",
    "            f.write(str(numX) + \",\" + \" \" )\n",
    "            \n",
    "        numX = numX + 1\n",
    "    f.close()\n",
    "    return True"
   ]
  },
  {
   "cell_type": "code",
   "execution_count": 7,
   "metadata": {},
   "outputs": [
    {
     "name": "stdout",
     "output_type": "stream",
     "text": [
      "Ingrese numero: 3\n"
     ]
    },
    {
     "data": {
      "text/plain": [
       "True"
      ]
     },
     "execution_count": 7,
     "metadata": {},
     "output_type": "execute_result"
    }
   ],
   "source": [
    "numero = int(input(\"Ingrese numero: \"))\n",
    "principal(numero)"
   ]
  },
  {
   "cell_type": "markdown",
   "metadata": {},
   "source": [
    "<b>Ejercicio 2:</b> **[5 puntos]** <h2>Buscador de extensiones</h2>\n",
    "\n",
    "Implementar una función que reciba como entrada 1 parámetro:\n",
    "\n",
    "* El nombre de un directorio \n",
    "\n",
    "Su función debe recorrer el directorio de entrada (incluyendo subdirectorios) y verificar los distintos tipos de archivos según su extensión (txt, doc, xls, jpeg, png, pdf, etc.). \n",
    "\n",
    "Finalmente, se debe reportar la siguiente información: (el número indica la cantidad de archivos)\n",
    "\n",
    "    Archivos txt: 2\n",
    "        C:\\Users\\bigdata\\ABC\\hola.txt\n",
    "        C:\\Users\\bigdata\\ABC\\XYZ\\mundo.txt\n",
    "    \n",
    "    Archivos pdf: 1\n",
    "        C:\\Users\\bigdata\\ABC\\esan.pdf \n",
    "    ..."
   ]
  },
  {
   "cell_type": "code",
   "execution_count": 2,
   "metadata": {},
   "outputs": [
    {
     "data": {
      "text/plain": [
       "'C:\\\\Users\\\\ZARATE\\\\Documents\\\\BDA_2021_1\\\\PC1'"
      ]
     },
     "execution_count": 2,
     "metadata": {},
     "output_type": "execute_result"
    }
   ],
   "source": [
    "import os\n",
    "os.getcwd()"
   ]
  },
  {
   "cell_type": "code",
   "execution_count": 3,
   "metadata": {},
   "outputs": [],
   "source": [
    "os.chdir('..')"
   ]
  },
  {
   "cell_type": "code",
   "execution_count": 6,
   "metadata": {},
   "outputs": [],
   "source": [
    "def contenido (direc,l):\n",
    "    os.chdir(direc)\n",
    "    for elemento in os.listdir():\n",
    "        if os.path.isdir(elemento):\n",
    "            contenido(elemento,l)\n",
    "        elif os.path.isfile(elemento):\n",
    "            l.append(os.getcwd() + '\\\\'+ elemento)\n",
    "    os.chdir('..')\n",
    "    return l"
   ]
  },
  {
   "cell_type": "code",
   "execution_count": 42,
   "metadata": {},
   "outputs": [],
   "source": [
    "def principal(dr):\n",
    "    \n",
    "    L = contenido(dr,[])\n",
    "    x = []\n",
    "    \n",
    "    for i in L:\n",
    "        a = i.split('.')\n",
    "        b = a[-1]\n",
    "        x.append(b)\n",
    "    \n",
    "    y = list(set(x))\n",
    "    L = \" \".join(L)\n",
    "    L = L.split('.')\n",
    "    L = \" \".join(L)\n",
    "    d = {}\n",
    "    \n",
    "    for i in y:\n",
    "        d[i] = L.count(i)\n",
    "        \n",
    "    ga = list(d.keys())\n",
    "    \n",
    "    L = contenido(dr,[])\n",
    "    \n",
    "    for i in ga:\n",
    "        print('Archivos', i, \":\", d[i])\n",
    "        for j in L:\n",
    "            if (i in j):\n",
    "                print(j)    \n",
    "        \n",
    "    return True"
   ]
  },
  {
   "cell_type": "code",
   "execution_count": 43,
   "metadata": {},
   "outputs": [
    {
     "name": "stdout",
     "output_type": "stream",
     "text": [
      "Ingrese el nombre del directorio: test1\n",
      "Archivos DS_Store : 1\n",
      "C:\\Users\\ZARATE\\Documents\\BDA_2021_1\\test1\\.DS_Store\n",
      "Archivos txt : 4\n",
      "C:\\Users\\ZARATE\\Documents\\BDA_2021_1\\test1\\A\\Libro.txt\n",
      "C:\\Users\\ZARATE\\Documents\\BDA_2021_1\\test1\\B\\Hola.txt\n",
      "C:\\Users\\ZARATE\\Documents\\BDA_2021_1\\test1\\Hola.txt\n",
      "C:\\Users\\ZARATE\\Documents\\BDA_2021_1\\test1\\Libro.txt\n"
     ]
    },
    {
     "data": {
      "text/plain": [
       "True"
      ]
     },
     "execution_count": 43,
     "metadata": {},
     "output_type": "execute_result"
    }
   ],
   "source": [
    "directorio = input(\"Ingrese el nombre del directorio: \")\n",
    "principal(directorio)"
   ]
  }
 ],
 "metadata": {
  "kernelspec": {
   "display_name": "Python 3",
   "language": "python",
   "name": "python3"
  },
  "language_info": {
   "codemirror_mode": {
    "name": "ipython",
    "version": 3
   },
   "file_extension": ".py",
   "mimetype": "text/x-python",
   "name": "python",
   "nbconvert_exporter": "python",
   "pygments_lexer": "ipython3",
   "version": "3.8.11"
  }
 },
 "nbformat": 4,
 "nbformat_minor": 4
}
