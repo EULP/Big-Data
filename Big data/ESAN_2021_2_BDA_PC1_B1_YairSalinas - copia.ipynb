{
 "cells": [
  {
   "cell_type": "markdown",
   "metadata": {},
   "source": [
    "# <center><i>Big Data Analytics - Práctica Calificada 1</i></center>\n",
    "# <center>Bloque 1"
   ]
  },
  {
   "cell_type": "markdown",
   "metadata": {},
   "source": [
    "Nombre: Yair Andrey Salinas Bolaños"
   ]
  },
  {
   "cell_type": "markdown",
   "metadata": {},
   "source": [
    "---"
   ]
  },
  {
   "cell_type": "markdown",
   "metadata": {},
   "source": [
    "<b>Ejercicio 1:</b> **[3 puntos]** <h2>Números Perfectos</h2>\n",
    "\n",
    "Implementar una función que reciba como parámetro un número **N**, y escriba en un archivo (perfectos.txt) los N primeros números perfectos. Por ejemplo si N = 3, se debe escribir en el archivo los números 6, 28, 496. https://es.wikipedia.org/wiki/N%C3%BAmero_perfecto"
   ]
  },
  {
   "cell_type": "code",
   "execution_count": 57,
   "metadata": {},
   "outputs": [],
   "source": [
    "#Code\n",
    "def perfecto(N):\n",
    "    suma=0\n",
    "    L=[]\n",
    "    for i in range(1,N):\n",
    "        if (N%i==0):\n",
    "            suma+=i\n",
    "    if(suma==N): \n",
    "        L.append(N)\n",
    "\n",
    "    print(L)\n",
    "M=[]\n",
    "for i in range(M):\n",
    "    "
   ]
  },
  {
   "cell_type": "code",
   "execution_count": 58,
   "metadata": {},
   "outputs": [
    {
     "name": "stdout",
     "output_type": "stream",
     "text": [
      "[6]\n"
     ]
    }
   ],
   "source": [
    "perfecto(6)"
   ]
  },
  {
   "cell_type": "markdown",
   "metadata": {},
   "source": [
    "<b>Ejercicio 2:</b> **[5 puntos]** <h2>Buscador de contenido</h2>\n",
    "\n",
    "Implementar una función que reciba como entrada 2 parámetros:\n",
    "\n",
    "* El nombre de un directorio \n",
    "* Una palabra clave (keyword). \n",
    "\n",
    "Su función debe recorrer el directorio de entrada (incluyendo subdirectorios) y verificar si la keyword se encuentra dentro de algún archivo de texto plano. En caso de encontrar la keyword, se debe reportar la/s ruta/s completa del archivo y la cantidad de veces que aparece la keyword dentro del archivo. Por ejemplo: \n",
    "\n",
    "    C:\\Users\\bigdata\\ABC\\hola.txt 5\n",
    "    C:\\Users\\bigdata\\ABC\\XYZ\\mundo.txt 2\n"
   ]
  },
  {
   "cell_type": "code",
   "execution_count": 183,
   "metadata": {},
   "outputs": [],
   "source": [
    "path='C:\\\\Users\\\\Yair\\\\Big data'\n",
    "word='the'"
   ]
  },
  {
   "cell_type": "code",
   "execution_count": 184,
   "metadata": {},
   "outputs": [],
   "source": [
    "def problem2(path,word):\n",
    "    for ruta,_,files in os.walk(path):\n",
    "        os.chdir(ruta)\n",
    "        for txt in files:\n",
    "            if(txt.endswith('.txt')):\n",
    "            \n",
    "                arc = open(txt,mode='r',encoding='utf-8')  \n",
    "                cad=arc.read() \n",
    "                lista=cad.split()\n",
    "            \n",
    "                if(word in lista):\n",
    "                    repe=lista.count(word)\n",
    "                    print(ruta+os.sep+txt,' ',repe)\n",
    "                cad=arc.close() \n",
    "        return "
   ]
  },
  {
   "cell_type": "code",
   "execution_count": 185,
   "metadata": {},
   "outputs": [
    {
     "name": "stdout",
     "output_type": "stream",
     "text": [
      "C:\\Users\\Yair\\Big data\\Datos_SPAM.txt   1197\n",
      "C:\\Users\\Yair\\Big data\\HAM_Total.txt   1019\n",
      "C:\\Users\\Yair\\Big data\\libroPC1.txt   1537\n",
      "C:\\Users\\Yair\\Big data\\SPAM_Total.txt   178\n",
      "C:\\Users\\Yair\\Big data\\Summer Flowers of the High Alps by Somerville Hastings.txt   1537\n"
     ]
    }
   ],
   "source": [
    "problem2(path,word)"
   ]
  },
  {
   "cell_type": "code",
   "execution_count": 249,
   "metadata": {},
   "outputs": [],
   "source": [
    "def numArch(path):\n",
    "    \n",
    "    #Encontrando el tipo de formato de cada archivo\n",
    "    \n",
    "    formatos=[]\n",
    "    for _,_,files in os.walk(path):\n",
    "        \n",
    "        for txt in files:\n",
    "            lista=txt.split('.')\n",
    "            tipo=lista[-1]\n",
    "            formatos.append(tipo)  \n",
    "            \n",
    "    formatos=list(set(formatos))\n",
    "    print(formatos)\n",
    "    #Contando el número de archivos por formato\n",
    "    cantidad=[]\n",
    "    l=[]\n",
    "    for ruta,_,files in os.walk(path):\n",
    "        \n",
    "        #for arch in files:\n",
    "        L=('.'.join(files)).split('.')\n",
    "        print(L)\n",
    "        \n",
    "        for form in formatos:\n",
    "            cantidad.append(L.count(form))\n",
    "              \n",
    "        print(\"------\", cantidad)\n",
    "                \n",
    "    return (formatos,cantidad)"
   ]
  },
  {
   "cell_type": "code",
   "execution_count": 250,
   "metadata": {},
   "outputs": [
    {
     "name": "stdout",
     "output_type": "stream",
     "text": [
      "['txt', 'ipynb']\n",
      "['Datos_SPAM', 'txt', 'Ejercicios2', 'ipynb', 'ESAN_2021_1_BDA_PC1_B1 - Christopher Zarate', 'ipynb', 'ESAN_2021_1_BDA_PC1_B2 - Christopher Zarate', 'ipynb', 'ESAN_2021_2_BDA_PC1_B1_YairSalinas', 'ipynb', 'ESAN_2021_2_BDA_PC1_B2_YairSalinas', 'ipynb', 'HAM_Total', 'txt', 'libroPC1', 'txt', 'Manejo de directorios', 'ipynb', 'out', 'txt', 'SPAM_Total', 'txt', 'Summer Flowers of the High Alps by Somerville Hastings', 'txt', 'wordCount', 'ipynb']\n",
      "------ [6, 7]\n",
      "['Ejercicios2-checkpoint', 'ipynb', 'ESAN_2021_1_BDA_PC1_B1 - Christopher Zarate-checkpoint', 'ipynb', 'ESAN_2021_2_BDA_PC1_B1_YairSalinas-checkpoint', 'ipynb', 'ESAN_2021_2_BDA_PC1_B2_YairSalinas-checkpoint', 'ipynb', 'Manejo de directorios-checkpoint', 'ipynb', 'wordCount-checkpoint', 'ipynb']\n",
      "------ [6, 7, 0, 6]\n",
      "['io', 'txt']\n",
      "------ [6, 7, 0, 6, 1, 0]\n",
      "['', '', '', 'word', '', '', '', 'txt', 'prueba', '', '', '', '', 'txt']\n",
      "------ [6, 7, 0, 6, 1, 0, 2, 0]\n",
      "['']\n",
      "------ [6, 7, 0, 6, 1, 0, 2, 0, 0, 0]\n",
      "['']\n",
      "------ [6, 7, 0, 6, 1, 0, 2, 0, 0, 0, 0, 0]\n",
      "['']\n",
      "------ [6, 7, 0, 6, 1, 0, 2, 0, 0, 0, 0, 0, 0, 0]\n",
      "['']\n",
      "------ [6, 7, 0, 6, 1, 0, 2, 0, 0, 0, 0, 0, 0, 0, 0, 0]\n",
      "['ham', 'txt']\n",
      "------ [6, 7, 0, 6, 1, 0, 2, 0, 0, 0, 0, 0, 0, 0, 0, 0, 1, 0]\n",
      "['']\n",
      "------ [6, 7, 0, 6, 1, 0, 2, 0, 0, 0, 0, 0, 0, 0, 0, 0, 1, 0, 0, 0]\n",
      "['']\n",
      "------ [6, 7, 0, 6, 1, 0, 2, 0, 0, 0, 0, 0, 0, 0, 0, 0, 1, 0, 0, 0, 0, 0]\n",
      "['']\n",
      "------ [6, 7, 0, 6, 1, 0, 2, 0, 0, 0, 0, 0, 0, 0, 0, 0, 1, 0, 0, 0, 0, 0, 0, 0]\n"
     ]
    },
    {
     "data": {
      "text/plain": [
       "(['txt', 'ipynb'],\n",
       " [6, 7, 0, 6, 1, 0, 2, 0, 0, 0, 0, 0, 0, 0, 0, 0, 1, 0, 0, 0, 0, 0, 0, 0])"
      ]
     },
     "execution_count": 250,
     "metadata": {},
     "output_type": "execute_result"
    }
   ],
   "source": [
    "numArch(path)"
   ]
  },
  {
   "cell_type": "code",
   "execution_count": null,
   "metadata": {},
   "outputs": [],
   "source": []
  },
  {
   "cell_type": "code",
   "execution_count": 29,
   "metadata": {},
   "outputs": [
    {
     "name": "stdout",
     "output_type": "stream",
     "text": [
      "C:\\Users\\Yair\\Big data\n",
      "['.ipynb_checkpoints', 'carpeta212', 'Files']\n",
      "['Datos_SPAM.txt', 'Ejercicios2.ipynb', 'ESAN_2021_1_BDA_PC1_B1 - Christopher Zarate.ipynb', 'ESAN_2021_1_BDA_PC1_B2 - Christopher Zarate.ipynb', 'ESAN_2021_2_BDA_PC1_B1_YairSalinas.ipynb', 'ESAN_2021_2_BDA_PC1_B2_YairSalinas.ipynb', 'HAM_Total.txt', 'libroPC1.txt', 'Manejo de directorios.ipynb', 'out.txt', 'SPAM_Total.txt', 'Summer Flowers of the High Alps by Somerville Hastings.txt', 'wordCount.ipynb']\n",
      "C:\\Users\\Yair\\Big data\\.ipynb_checkpoints\n",
      "[]\n",
      "['Ejercicios2-checkpoint.ipynb', 'ESAN_2021_1_BDA_PC1_B1 - Christopher Zarate-checkpoint.ipynb', 'ESAN_2021_2_BDA_PC1_B1_YairSalinas-checkpoint.ipynb', 'ESAN_2021_2_BDA_PC1_B2_YairSalinas-checkpoint.ipynb', 'Manejo de directorios-checkpoint.ipynb', 'wordCount-checkpoint.ipynb']\n",
      "C:\\Users\\Yair\\Big data\\carpeta212\n",
      "['adad']\n",
      "['io.txt']\n",
      "C:\\Users\\Yair\\Big data\\carpeta212\\adad\n",
      "['iiiiiCarpeta']\n",
      "['...word....txt', 'prueba.....txt']\n",
      "C:\\Users\\Yair\\Big data\\carpeta212\\adad\\iiiiiCarpeta\n",
      "[]\n",
      "[]\n",
      "C:\\Users\\Yair\\Big data\\Files\n",
      "['ham0', 'ham1', 'ham2', 'spam0', 'spam1', 'spam2']\n",
      "[]\n",
      "C:\\Users\\Yair\\Big data\\Files\\ham0\n",
      "[]\n",
      "[]\n",
      "C:\\Users\\Yair\\Big data\\Files\\ham1\n",
      "[]\n",
      "[]\n",
      "C:\\Users\\Yair\\Big data\\Files\\ham2\n",
      "[]\n",
      "[]\n",
      "C:\\Users\\Yair\\Big data\\Files\\spam0\n",
      "[]\n",
      "[]\n",
      "C:\\Users\\Yair\\Big data\\Files\\spam1\n",
      "[]\n",
      "[]\n",
      "C:\\Users\\Yair\\Big data\\Files\\spam2\n",
      "[]\n",
      "[]\n"
     ]
    }
   ],
   "source": [
    "for root,dirs,file in os.walk(path):\n",
    "    print(root)\n",
    "    print(dirs)\n",
    "    print(file)"
   ]
  },
  {
   "cell_type": "code",
   "execution_count": 181,
   "metadata": {},
   "outputs": [
    {
     "name": "stdout",
     "output_type": "stream",
     "text": [
      "Datos_SPAM.txt \n",
      "\n",
      "HAM_Total.txt \n",
      "\n",
      "libroPC1.txt \n",
      "\n",
      "out.txt \n",
      "\n",
      "SPAM_Total.txt \n",
      "\n",
      "Summer Flowers of the High Alps by Somerville Hastings.txt \n",
      "\n",
      "io.txt \n",
      "\n",
      "...word....txt \n",
      "\n",
      "prueba.....txt \n",
      "\n",
      "ham.txt \n",
      "\n"
     ]
    }
   ],
   "source": [
    "for ruta,_,files in os.walk(path):\n",
    "    for txt in files:\n",
    "        if(txt.endswith('.txt')): \n",
    "            print(txt,'\\n')"
   ]
  },
  {
   "cell_type": "code",
   "execution_count": 32,
   "metadata": {},
   "outputs": [
    {
     "data": {
      "text/plain": [
       "False"
      ]
     },
     "execution_count": 32,
     "metadata": {},
     "output_type": "execute_result"
    }
   ],
   "source": [
    "'asada'.endswith('12')"
   ]
  },
  {
   "cell_type": "code",
   "execution_count": 91,
   "metadata": {},
   "outputs": [],
   "source": [
    "os.chdir(path)"
   ]
  },
  {
   "cell_type": "code",
   "execution_count": 186,
   "metadata": {},
   "outputs": [
    {
     "data": {
      "text/plain": [
       "'C:\\\\Users\\\\Yair\\\\Big data'"
      ]
     },
     "execution_count": 186,
     "metadata": {},
     "output_type": "execute_result"
    }
   ],
   "source": [
    "os.getcwd()"
   ]
  },
  {
   "cell_type": "code",
   "execution_count": 115,
   "metadata": {},
   "outputs": [
    {
     "name": "stdout",
     "output_type": "stream",
     "text": [
      "io is the most op heroe\n"
     ]
    }
   ],
   "source": [
    "#os.chdir(path+os.sep+'carpeta212')\n",
    "arc = open('io.txt',mode='r',encoding='utf-8')  \n",
    "cad=arc.read()\n",
    "lista=cad.split()\n",
    "print(cad)"
   ]
  },
  {
   "cell_type": "code",
   "execution_count": 194,
   "metadata": {},
   "outputs": [
    {
     "data": {
      "text/plain": [
       "bool"
      ]
     },
     "execution_count": 194,
     "metadata": {},
     "output_type": "execute_result"
    }
   ],
   "source": [
    "(os.path.isfile('HAM_total.txt')"
   ]
  },
  {
   "cell_type": "code",
   "execution_count": 211,
   "metadata": {},
   "outputs": [
    {
     "data": {
      "text/plain": [
       "[1, 2, 1, 1, 3, 4, 5]"
      ]
     },
     "execution_count": 211,
     "metadata": {},
     "output_type": "execute_result"
    }
   ],
   "source": [
    "A"
   ]
  },
  {
   "cell_type": "code",
   "execution_count": 218,
   "metadata": {},
   "outputs": [],
   "source": [
    "A=['1.5', '2.3', '1.6', '1.8', '3', '4', '5']"
   ]
  },
  {
   "cell_type": "code",
   "execution_count": 230,
   "metadata": {},
   "outputs": [
    {
     "data": {
      "text/plain": [
       "['1', '5 ', ' 2', '3 ', ' 1', '6 ', ' 1', '8 ', ' 3 ', ' 4 ', ' 5']"
      ]
     },
     "execution_count": 230,
     "metadata": {},
     "output_type": "execute_result"
    }
   ],
   "source": [
    "(' . '.join(A)).split('.')"
   ]
  },
  {
   "cell_type": "code",
   "execution_count": null,
   "metadata": {},
   "outputs": [],
   "source": []
  },
  {
   "cell_type": "code",
   "execution_count": 251,
   "metadata": {},
   "outputs": [],
   "source": [
    "def contenido (direc,l):\n",
    "    os.chdir(direc)\n",
    "    for elemento in os.listdir():\n",
    "        if os.path.isdir(elemento):\n",
    "            contenido(elemento,l)\n",
    "        elif os.path.isfile(elemento):\n",
    "            l.append(os.getcwd() + '\\\\'+ elemento)\n",
    "    os.chdir('..')\n",
    "    return l"
   ]
  },
  {
   "cell_type": "code",
   "execution_count": 256,
   "metadata": {},
   "outputs": [],
   "source": [
    "def principal(dr):\n",
    "    \n",
    "    L = contenido(dr,[])\n",
    "    x = []\n",
    "    \n",
    "    for i in L:\n",
    "        a = i.split('.')\n",
    "        b = a[-1]\n",
    "        x.append(b)\n",
    "    \n",
    "    y = list(set(x))\n",
    "    L = \" \".join(L)\n",
    "    L = L.split('.')\n",
    "    L = \" \".join(L)\n",
    "    d = {}\n",
    "    \n",
    "    for i in y:\n",
    "        d[i] = L.count(i)\n",
    "        \n",
    "    ga = list(d.keys())\n",
    "    print(d[i])\n",
    "    \n",
    "    L = contenido(dr,[])\n",
    "    \n",
    "    for i in ga:\n",
    "        print('Archivos', i, \":\", d[i])\n",
    "        for j in L:\n",
    "            if (i in j):\n",
    "                print(j)    \n",
    "        \n",
    "    return True"
   ]
  },
  {
   "cell_type": "code",
   "execution_count": 257,
   "metadata": {},
   "outputs": [
    {
     "name": "stdout",
     "output_type": "stream",
     "text": [
      "19\n",
      "Archivos txt : 10\n",
      "C:\\Users\\Yair\\Big data\\carpeta212\\adad\\...word....txt\n",
      "C:\\Users\\Yair\\Big data\\carpeta212\\adad\\prueba.....txt\n",
      "C:\\Users\\Yair\\Big data\\carpeta212\\io.txt\n",
      "C:\\Users\\Yair\\Big data\\Datos_SPAM.txt\n",
      "C:\\Users\\Yair\\Big data\\Files\\ham2\\ham.txt\n",
      "C:\\Users\\Yair\\Big data\\HAM_Total.txt\n",
      "C:\\Users\\Yair\\Big data\\libroPC1.txt\n",
      "C:\\Users\\Yair\\Big data\\out.txt\n",
      "C:\\Users\\Yair\\Big data\\SPAM_Total.txt\n",
      "C:\\Users\\Yair\\Big data\\Summer Flowers of the High Alps by Somerville Hastings.txt\n",
      "Archivos ipynb : 19\n",
      "C:\\Users\\Yair\\Big data\\.ipynb_checkpoints\\Ejercicios2-checkpoint.ipynb\n",
      "C:\\Users\\Yair\\Big data\\.ipynb_checkpoints\\ESAN_2021_1_BDA_PC1_B1 - Christopher Zarate-checkpoint.ipynb\n",
      "C:\\Users\\Yair\\Big data\\.ipynb_checkpoints\\ESAN_2021_2_BDA_PC1_B1_YairSalinas-checkpoint.ipynb\n",
      "C:\\Users\\Yair\\Big data\\.ipynb_checkpoints\\ESAN_2021_2_BDA_PC1_B2_YairSalinas-checkpoint.ipynb\n",
      "C:\\Users\\Yair\\Big data\\.ipynb_checkpoints\\Manejo de directorios-checkpoint.ipynb\n",
      "C:\\Users\\Yair\\Big data\\.ipynb_checkpoints\\wordCount-checkpoint.ipynb\n",
      "C:\\Users\\Yair\\Big data\\Ejercicios2.ipynb\n",
      "C:\\Users\\Yair\\Big data\\ESAN_2021_1_BDA_PC1_B1 - Christopher Zarate.ipynb\n",
      "C:\\Users\\Yair\\Big data\\ESAN_2021_1_BDA_PC1_B2 - Christopher Zarate.ipynb\n",
      "C:\\Users\\Yair\\Big data\\ESAN_2021_2_BDA_PC1_B1_YairSalinas.ipynb\n",
      "C:\\Users\\Yair\\Big data\\ESAN_2021_2_BDA_PC1_B2_YairSalinas.ipynb\n",
      "C:\\Users\\Yair\\Big data\\Manejo de directorios.ipynb\n",
      "C:\\Users\\Yair\\Big data\\wordCount.ipynb\n"
     ]
    },
    {
     "data": {
      "text/plain": [
       "True"
      ]
     },
     "execution_count": 257,
     "metadata": {},
     "output_type": "execute_result"
    }
   ],
   "source": [
    "directorio = path\n",
    "principal(directorio)"
   ]
  },
  {
   "cell_type": "code",
   "execution_count": 259,
   "metadata": {},
   "outputs": [
    {
     "data": {
      "text/plain": [
       "['C:\\\\Users\\\\Yair\\\\Big data\\\\.ipynb_checkpoints\\\\Ejercicios2-checkpoint.ipynb',\n",
       " 'C:\\\\Users\\\\Yair\\\\Big data\\\\.ipynb_checkpoints\\\\ESAN_2021_1_BDA_PC1_B1 - Christopher Zarate-checkpoint.ipynb',\n",
       " 'C:\\\\Users\\\\Yair\\\\Big data\\\\.ipynb_checkpoints\\\\ESAN_2021_2_BDA_PC1_B1_YairSalinas-checkpoint.ipynb',\n",
       " 'C:\\\\Users\\\\Yair\\\\Big data\\\\.ipynb_checkpoints\\\\ESAN_2021_2_BDA_PC1_B2_YairSalinas-checkpoint.ipynb',\n",
       " 'C:\\\\Users\\\\Yair\\\\Big data\\\\.ipynb_checkpoints\\\\Manejo de directorios-checkpoint.ipynb',\n",
       " 'C:\\\\Users\\\\Yair\\\\Big data\\\\.ipynb_checkpoints\\\\wordCount-checkpoint.ipynb',\n",
       " 'C:\\\\Users\\\\Yair\\\\Big data\\\\carpeta212\\\\adad\\\\...word....txt',\n",
       " 'C:\\\\Users\\\\Yair\\\\Big data\\\\carpeta212\\\\adad\\\\prueba.....txt',\n",
       " 'C:\\\\Users\\\\Yair\\\\Big data\\\\carpeta212\\\\io.txt',\n",
       " 'C:\\\\Users\\\\Yair\\\\Big data\\\\Datos_SPAM.txt',\n",
       " 'C:\\\\Users\\\\Yair\\\\Big data\\\\Ejercicios2.ipynb',\n",
       " 'C:\\\\Users\\\\Yair\\\\Big data\\\\ESAN_2021_1_BDA_PC1_B1 - Christopher Zarate.ipynb',\n",
       " 'C:\\\\Users\\\\Yair\\\\Big data\\\\ESAN_2021_1_BDA_PC1_B2 - Christopher Zarate.ipynb',\n",
       " 'C:\\\\Users\\\\Yair\\\\Big data\\\\ESAN_2021_2_BDA_PC1_B1_YairSalinas.ipynb',\n",
       " 'C:\\\\Users\\\\Yair\\\\Big data\\\\ESAN_2021_2_BDA_PC1_B2_YairSalinas.ipynb',\n",
       " 'C:\\\\Users\\\\Yair\\\\Big data\\\\Files\\\\ham2\\\\ham.txt',\n",
       " 'C:\\\\Users\\\\Yair\\\\Big data\\\\HAM_Total.txt',\n",
       " 'C:\\\\Users\\\\Yair\\\\Big data\\\\libroPC1.txt',\n",
       " 'C:\\\\Users\\\\Yair\\\\Big data\\\\Manejo de directorios.ipynb',\n",
       " 'C:\\\\Users\\\\Yair\\\\Big data\\\\out.txt',\n",
       " 'C:\\\\Users\\\\Yair\\\\Big data\\\\SPAM_Total.txt',\n",
       " 'C:\\\\Users\\\\Yair\\\\Big data\\\\Summer Flowers of the High Alps by Somerville Hastings.txt',\n",
       " 'C:\\\\Users\\\\Yair\\\\Big data\\\\wordCount.ipynb']"
      ]
     },
     "execution_count": 259,
     "metadata": {},
     "output_type": "execute_result"
    }
   ],
   "source": [
    "contenido (path,[])"
   ]
  },
  {
   "cell_type": "code",
   "execution_count": null,
   "metadata": {},
   "outputs": [],
   "source": []
  }
 ],
 "metadata": {
  "kernelspec": {
   "display_name": "Python 3",
   "language": "python",
   "name": "python3"
  },
  "language_info": {
   "codemirror_mode": {
    "name": "ipython",
    "version": 3
   },
   "file_extension": ".py",
   "mimetype": "text/x-python",
   "name": "python",
   "nbconvert_exporter": "python",
   "pygments_lexer": "ipython3",
   "version": "3.8.11"
  }
 },
 "nbformat": 4,
 "nbformat_minor": 4
}
