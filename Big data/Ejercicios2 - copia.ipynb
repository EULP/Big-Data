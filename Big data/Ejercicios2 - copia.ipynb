{
 "cells": [
  {
   "cell_type": "markdown",
   "id": "1a6f3061",
   "metadata": {},
   "source": [
    "### Yair Salinas Bolaños - 17200648"
   ]
  },
  {
   "cell_type": "markdown",
   "id": "137e7e59",
   "metadata": {},
   "source": [
    "# Ej. 1"
   ]
  },
  {
   "cell_type": "code",
   "execution_count": 6,
   "id": "e1b82e17",
   "metadata": {},
   "outputs": [],
   "source": [
    "def impar(num,txt=True):\n",
    "    L=[]\n",
    "    for i in range(1,num):\n",
    "        if(i%2!=0):\n",
    "            L.append(i)\n",
    "    if(txt==True):\n",
    "        arc = open(\"out.txt\",mode='w',encoding='utf-8')  \n",
    "        arc.write(str(L))        \n",
    "        arc.close() \n",
    "    return(L)"
   ]
  },
  {
   "cell_type": "code",
   "execution_count": 7,
   "id": "80e540c8",
   "metadata": {},
   "outputs": [
    {
     "data": {
      "text/plain": [
       "[1, 3, 5, 7, 9]"
      ]
     },
     "execution_count": 7,
     "metadata": {},
     "output_type": "execute_result"
    }
   ],
   "source": [
    "impar(10)"
   ]
  },
  {
   "cell_type": "markdown",
   "id": "92ba48c2",
   "metadata": {},
   "source": [
    "# Ej. 2"
   ]
  },
  {
   "cell_type": "code",
   "execution_count": 23,
   "id": "0040f852",
   "metadata": {},
   "outputs": [],
   "source": [
    "def sumDiv(num,txt=False,filename='out.txt'):\n",
    "    suma=0\n",
    "    prod=1\n",
    "    for i in range(1,num+1):\n",
    "        if(num%i==0):\n",
    "            suma=suma+i\n",
    "            prod=prod*i\n",
    "    L=[suma,prod]\n",
    "    if(txt==True):\n",
    "        arc = open(filename,mode='w',encoding='utf-8')  \n",
    "        arc.write(str(L))        \n",
    "        arc.close() \n",
    "    return suma,prod"
   ]
  },
  {
   "cell_type": "code",
   "execution_count": 24,
   "id": "bbb3647d",
   "metadata": {},
   "outputs": [
    {
     "data": {
      "text/plain": [
       "(18, 100)"
      ]
     },
     "execution_count": 24,
     "metadata": {},
     "output_type": "execute_result"
    }
   ],
   "source": [
    "sumDiv(10,True)"
   ]
  },
  {
   "cell_type": "code",
   "execution_count": null,
   "id": "4356be13",
   "metadata": {},
   "outputs": [],
   "source": []
  }
 ],
 "metadata": {
  "kernelspec": {
   "display_name": "Python 3",
   "language": "python",
   "name": "python3"
  },
  "language_info": {
   "codemirror_mode": {
    "name": "ipython",
    "version": 3
   },
   "file_extension": ".py",
   "mimetype": "text/x-python",
   "name": "python",
   "nbconvert_exporter": "python",
   "pygments_lexer": "ipython3",
   "version": "3.8.11"
  }
 },
 "nbformat": 4,
 "nbformat_minor": 5
}
