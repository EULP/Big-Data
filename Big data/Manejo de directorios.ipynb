{
 "cells": [
  {
   "cell_type": "code",
   "execution_count": 3,
   "id": "cb2a91e9",
   "metadata": {},
   "outputs": [],
   "source": [
    "import os"
   ]
  },
  {
   "cell_type": "markdown",
   "id": "90db77e6",
   "metadata": {},
   "source": [
    "**os** librería para trabajar con sistemas operativos desde python"
   ]
  },
  {
   "cell_type": "markdown",
   "id": "40dd1ac6",
   "metadata": {},
   "source": [
    "**Jupyter** también permite interactuar con comandos del OS usando **!**"
   ]
  },
  {
   "cell_type": "code",
   "execution_count": 7,
   "id": "091f0888",
   "metadata": {},
   "outputs": [
    {
     "name": "stderr",
     "output_type": "stream",
     "text": [
      "\"ls\" no se reconoce como un comando interno o externo,\n",
      "programa o archivo por lotes ejecutable.\n"
     ]
    }
   ],
   "source": [
    "!ls"
   ]
  },
  {
   "cell_type": "code",
   "execution_count": 8,
   "id": "453fa639",
   "metadata": {},
   "outputs": [
    {
     "name": "stdout",
     "output_type": "stream",
     "text": [
      "C:\\Users\\Yair\\Big data\n"
     ]
    }
   ],
   "source": [
    "! cd"
   ]
  },
  {
   "cell_type": "code",
   "execution_count": null,
   "id": "37340c72",
   "metadata": {},
   "outputs": [],
   "source": [
    "cmd: cd ..   # 2 puntos(..) regresa al directorio anterior\n",
    "     cd User\\\\Yair....   # Ingresar a la carpeta "
   ]
  },
  {
   "cell_type": "code",
   "execution_count": 9,
   "id": "32bee092",
   "metadata": {},
   "outputs": [
    {
     "name": "stdout",
     "output_type": "stream",
     "text": [
      " El volumen de la unidad C es Windows\n",
      " El número de serie del volumen es: 1228-E4C7\n",
      "\n",
      " Directorio de C:\\Users\\Yair\\Big data\n",
      "\n",
      "15/09/2021  10:10    <DIR>          .\n",
      "15/09/2021  10:10    <DIR>          ..\n",
      "15/09/2021  10:04    <DIR>          .ipynb_checkpoints\n",
      "06/09/2021  10:57             2,667 Ejercicios2.ipynb\n",
      "15/09/2021  10:10               982 Manejo de directorios.ipynb\n",
      "06/09/2021  10:56                 9 out.txt\n",
      "13/09/2021  18:52           140,793 Summer Flowers of the High Alps by Somerville Hastings.txt\n",
      "13/09/2021  20:32           108,995 wordCount.ipynb\n",
      "               5 archivos        253,446 bytes\n",
      "               3 dirs  604,403,113,984 bytes libres\n"
     ]
    }
   ],
   "source": [
    "! dir"
   ]
  },
  {
   "cell_type": "code",
   "execution_count": 10,
   "id": "8c36ab6f",
   "metadata": {},
   "outputs": [
    {
     "data": {
      "text/plain": [
       "8"
      ]
     },
     "execution_count": 10,
     "metadata": {},
     "output_type": "execute_result"
    }
   ],
   "source": [
    "os.cpu_count()    # cpu's disponibles"
   ]
  },
  {
   "cell_type": "code",
   "execution_count": 11,
   "id": "dcd5f492",
   "metadata": {},
   "outputs": [
    {
     "data": {
      "text/plain": [
       "'C:\\\\Users\\\\Yair\\\\Big data'"
      ]
     },
     "execution_count": 11,
     "metadata": {},
     "output_type": "execute_result"
    }
   ],
   "source": [
    "os.getcwd()     # Obtiene el actual directorio de trabajo"
   ]
  },
  {
   "cell_type": "code",
   "execution_count": null,
   "id": "7f2c2998",
   "metadata": {},
   "outputs": [],
   "source": [
    "#Alert!\n",
    "os.kill('PID')"
   ]
  },
  {
   "cell_type": "code",
   "execution_count": 13,
   "id": "89d18432",
   "metadata": {},
   "outputs": [
    {
     "data": {
      "text/plain": [
       "'\\r\\n'"
      ]
     },
     "execution_count": 13,
     "metadata": {},
     "output_type": "execute_result"
    }
   ],
   "source": [
    "os.linesep   # Salto de línea"
   ]
  },
  {
   "cell_type": "code",
   "execution_count": 14,
   "id": "96165ba9",
   "metadata": {},
   "outputs": [
    {
     "data": {
      "text/plain": [
       "'\\\\'"
      ]
     },
     "execution_count": 14,
     "metadata": {},
     "output_type": "execute_result"
    }
   ],
   "source": [
    "os.sep    # Separador de directorios"
   ]
  },
  {
   "cell_type": "code",
   "execution_count": 17,
   "id": "813b01a0",
   "metadata": {},
   "outputs": [
    {
     "data": {
      "text/plain": [
       "['.ipynb_checkpoints',\n",
       " 'Ejercicios2.ipynb',\n",
       " 'Manejo de directorios.ipynb',\n",
       " 'out.txt',\n",
       " 'Summer Flowers of the High Alps by Somerville Hastings.txt',\n",
       " 'wordCount.ipynb']"
      ]
     },
     "execution_count": 17,
     "metadata": {},
     "output_type": "execute_result"
    }
   ],
   "source": [
    "L=os.listdir()   # Retorna una lista de archivos del directorio donde me encuentro    cmd: dir\n",
    "L"
   ]
  },
  {
   "cell_type": "code",
   "execution_count": 18,
   "id": "8f9938e8",
   "metadata": {},
   "outputs": [
    {
     "name": "stdout",
     "output_type": "stream",
     "text": [
      "out.txt\n",
      "Summer Flowers of the High Alps by Somerville Hastings.txt\n"
     ]
    }
   ],
   "source": [
    "# Todos los archivos que terminan en txt en la lista\n",
    "for nombre in L:\n",
    "    if nombre.endswith('.txt'):\n",
    "        print(nombre)"
   ]
  },
  {
   "cell_type": "code",
   "execution_count": 19,
   "id": "57af7423",
   "metadata": {},
   "outputs": [
    {
     "data": {
      "text/plain": [
       "'C:\\\\Users\\\\Yair\\\\Big data'"
      ]
     },
     "execution_count": 19,
     "metadata": {},
     "output_type": "execute_result"
    }
   ],
   "source": [
    "os.getcwd()  "
   ]
  },
  {
   "cell_type": "code",
   "execution_count": 20,
   "id": "2ff3b357",
   "metadata": {},
   "outputs": [],
   "source": [
    "os.chdir('..')    # Cambia el directorio de trabajo"
   ]
  },
  {
   "cell_type": "code",
   "execution_count": 21,
   "id": "517a7cdd",
   "metadata": {},
   "outputs": [
    {
     "data": {
      "text/plain": [
       "'C:\\\\Users\\\\Yair'"
      ]
     },
     "execution_count": 21,
     "metadata": {},
     "output_type": "execute_result"
    }
   ],
   "source": [
    "os.getcwd()  "
   ]
  },
  {
   "cell_type": "code",
   "execution_count": 22,
   "id": "44e20243",
   "metadata": {},
   "outputs": [],
   "source": [
    "f=open(\"oooooo.txt\",'w',encoding='utf-8')\n",
    "f.write(\"Klose\")\n",
    "f.close()"
   ]
  },
  {
   "cell_type": "code",
   "execution_count": 23,
   "id": "ca784422",
   "metadata": {},
   "outputs": [],
   "source": [
    "L2=os.listdir()"
   ]
  },
  {
   "cell_type": "code",
   "execution_count": 24,
   "id": "aee36bfe",
   "metadata": {},
   "outputs": [
    {
     "data": {
      "text/plain": [
       "True"
      ]
     },
     "execution_count": 24,
     "metadata": {},
     "output_type": "execute_result"
    }
   ],
   "source": [
    "\"oooooo.txt\" in L2"
   ]
  },
  {
   "cell_type": "code",
   "execution_count": 141,
   "id": "6b5e7ca0",
   "metadata": {},
   "outputs": [],
   "source": [
    "os.chdir('C:\\\\Users\\\\Yair\\\\Big data')"
   ]
  },
  {
   "cell_type": "code",
   "execution_count": 27,
   "id": "ae6293cd",
   "metadata": {},
   "outputs": [
    {
     "data": {
      "text/plain": [
       "'C:\\\\Users\\\\Yair\\\\Big data'"
      ]
     },
     "execution_count": 27,
     "metadata": {},
     "output_type": "execute_result"
    }
   ],
   "source": [
    "os.getcwd()  "
   ]
  },
  {
   "cell_type": "code",
   "execution_count": 75,
   "id": "e90c1dde",
   "metadata": {},
   "outputs": [],
   "source": [
    "os.mkdir(\"carpeta212\")   # Crea una carpeta en la ruta actual....también se puede especificar la ruta"
   ]
  },
  {
   "cell_type": "code",
   "execution_count": 36,
   "id": "0f48a260",
   "metadata": {},
   "outputs": [
    {
     "data": {
      "text/plain": [
       "['.ipynb_checkpoints',\n",
       " 'carpeta212',\n",
       " 'Ejercicios2.ipynb',\n",
       " 'Manejo de directorios.ipynb',\n",
       " 'out.txt',\n",
       " 'Summer Flowers of the High Alps by Somerville Hastings.txt',\n",
       " 'wordCount.ipynb']"
      ]
     },
     "execution_count": 36,
     "metadata": {},
     "output_type": "execute_result"
    }
   ],
   "source": [
    "os.listdir()"
   ]
  },
  {
   "cell_type": "markdown",
   "id": "fdbf5094",
   "metadata": {},
   "source": [
    "## Ejercicios\n",
    "1. Crear una función que reciba como entrada una ruta(path) y una palabra de búsqueda. Su función debe retornar el archivo/s \n",
    "de texto donde se encuentra esa palabra.\n",
    "2. Crear una función que reciba como entrada una ruta(path) y una palabra de búsqueda. Su función debe retornar el archivo/s\n",
    "con el mismo nombre de la palabra buscar. **Se debe incluir subdirectorios.**"
   ]
  },
  {
   "cell_type": "code",
   "execution_count": 1,
   "id": "cc4ddf74",
   "metadata": {},
   "outputs": [],
   "source": [
    "#1)\n",
    "def prob1(path,word):\n",
    "    L=[]\n",
    "    os.chdir(path)\n",
    "    L1=os.listdir()\n",
    "    for i in range(len(L1)):\n",
    "        if(word.lower() in L1[i].lower()):\n",
    "            L.append(L1[i])\n",
    "    return L"
   ]
  },
  {
   "cell_type": "code",
   "execution_count": 13,
   "id": "6f7442d3",
   "metadata": {},
   "outputs": [
    {
     "data": {
      "text/plain": [
       "['Compu Gráfica', 'Compu Gráfica.npy']"
      ]
     },
     "execution_count": 13,
     "metadata": {},
     "output_type": "execute_result"
    }
   ],
   "source": [
    "path='C:\\\\Users\\\\Yair'\n",
    "prob1(path,'comPU')"
   ]
  },
  {
   "cell_type": "code",
   "execution_count": 55,
   "id": "912792ca",
   "metadata": {},
   "outputs": [],
   "source": [
    "#2)\n",
    "def prob2(path,word):\n",
    "    L=[]\n",
    "    os.chdir(path)\n",
    "    L2=os.listdir()\n",
    "    for file in L2:\n",
    "        if(file.find(word)):\n",
    "            L.append(file)\n",
    "    return L"
   ]
  },
  {
   "cell_type": "code",
   "execution_count": 56,
   "id": "aff1e71b",
   "metadata": {},
   "outputs": [],
   "source": [
    "def prob2(path,word):\n",
    "    M=[]   # lista de lista de archivos\n",
    "    for root,dirs,files in os.walk(path):       \n",
    "        M.append(files)\n",
    "    listaArch=[]  # lista de archivos\n",
    "    if(len(M)>0):\n",
    "        for i in range(len(M)):\n",
    "            for j in range(len(M[i])):\n",
    "                if(word.lower() in M[i][j].lower()):\n",
    "                    listaArch.append(M[i][j])\n",
    "    return listaArch"
   ]
  },
  {
   "cell_type": "code",
   "execution_count": 57,
   "id": "f0ff72c1",
   "metadata": {},
   "outputs": [
    {
     "data": {
      "text/plain": [
       "['Ejercicios2.ipynb',\n",
       " 'Manejo de directorios.ipynb',\n",
       " 'Ejercicios2-checkpoint.ipynb',\n",
       " 'Manejo de directorios-checkpoint.ipynb',\n",
       " 'io.txt']"
      ]
     },
     "execution_count": 57,
     "metadata": {},
     "output_type": "execute_result"
    }
   ],
   "source": [
    "path='C:\\\\Users\\\\Yair\\\\Big data'\n",
    "prob2(path,'io')"
   ]
  },
  {
   "cell_type": "markdown",
   "id": "6d6a4cb6",
   "metadata": {},
   "source": [
    "## os.walk()"
   ]
  },
  {
   "cell_type": "code",
   "execution_count": 54,
   "id": "5ed5c346",
   "metadata": {},
   "outputs": [
    {
     "name": "stdout",
     "output_type": "stream",
     "text": [
      "C:\\Users\\Yair\\Big data\n",
      "['.ipynb_checkpoints', 'carpeta212']\n",
      "['Ejercicios2.ipynb', 'Manejo de directorios.ipynb', 'out.txt', 'Summer Flowers of the High Alps by Somerville Hastings.txt', 'wordCount.ipynb']\n",
      "C:\\Users\\Yair\\Big data\\.ipynb_checkpoints\n",
      "[]\n",
      "['Ejercicios2-checkpoint.ipynb', 'Manejo de directorios-checkpoint.ipynb', 'wordCount-checkpoint.ipynb']\n",
      "C:\\Users\\Yair\\Big data\\carpeta212\n",
      "['adad']\n",
      "['io.txt']\n",
      "C:\\Users\\Yair\\Big data\\carpeta212\\adad\n",
      "['iiiiiCarpeta']\n",
      "['...word....txt', 'prueba.....txt']\n",
      "C:\\Users\\Yair\\Big data\\carpeta212\\adad\\iiiiiCarpeta\n",
      "[]\n",
      "[]\n"
     ]
    }
   ],
   "source": [
    "os.chdir('C:\\\\Users\\\\Yair\\\\Big data')\n",
    "for root,dirs,files in os.walk(path):        # root: path en cada carpeta\n",
    "    print(root)                              # dirs: lista de carpetas\n",
    "    print(dirs)                              #files: lista de archivos en cada carpeta\n",
    "    print(files)"
   ]
  }
 ],
 "metadata": {
  "kernelspec": {
   "display_name": "Python 3",
   "language": "python",
   "name": "python3"
  },
  "language_info": {
   "codemirror_mode": {
    "name": "ipython",
    "version": 3
   },
   "file_extension": ".py",
   "mimetype": "text/x-python",
   "name": "python",
   "nbconvert_exporter": "python",
   "pygments_lexer": "ipython3",
   "version": "3.8.11"
  }
 },
 "nbformat": 4,
 "nbformat_minor": 5
}
