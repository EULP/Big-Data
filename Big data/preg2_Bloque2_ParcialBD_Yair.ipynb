{
 "cells": [
  {
   "cell_type": "markdown",
   "metadata": {},
   "source": [
    "## Nombre: Yair Salinas Bolaños    17200648"
   ]
  },
  {
   "cell_type": "code",
   "execution_count": 1,
   "metadata": {},
   "outputs": [],
   "source": [
    "import os"
   ]
  },
  {
   "cell_type": "code",
   "execution_count": null,
   "metadata": {},
   "outputs": [],
   "source": [
    "# 1: Renombrar archivos"
   ]
  },
  {
   "cell_type": "code",
   "execution_count": 22,
   "metadata": {},
   "outputs": [],
   "source": [
    "path='C://Users//Yair//Big data//hamnspam'"
   ]
  },
  {
   "cell_type": "code",
   "execution_count": 25,
   "metadata": {},
   "outputs": [
    {
     "name": "stdout",
     "output_type": "stream",
     "text": [
      "C://Users//Yair//Big data//hamnspam\n",
      "C://Users//Yair//Big data//hamnspam\\ham\n",
      "C://Users//Yair//Big data//hamnspam\\spam\n"
     ]
    }
   ],
   "source": [
    "i=1\n",
    "j=1\n",
    "for ruta,_,files in os.walk(path):\n",
    "    os.chdir(ruta)\n",
    "    print(ruta)\n",
    "    for file in files:\n",
    "        if(ruta.endswith('ham')):\n",
    "            os.rename(file,'ham_'+str(i)+'.txt')\n",
    "            i+=1\n",
    "        if(ruta.endswith('spam')):\n",
    "            os.rename(file,'spam_'+str(j)+'.txt')\n",
    "            j+=1"
   ]
  },
  {
   "cell_type": "code",
   "execution_count": null,
   "metadata": {},
   "outputs": [],
   "source": [
    "#2: Crear txt"
   ]
  },
  {
   "cell_type": "code",
   "execution_count": null,
   "metadata": {},
   "outputs": [],
   "source": [
    "for ruta,_,files in os.walk(path):\n",
    "    os.chdir(ruta)\n",
    "    for file in files:\n",
    "        arc = open('TOTAL.txt',mode='w',encoding='utf-8')  \n",
    "        if 'ham' in file:\n",
    "            cad=arc.write('HAM')\n",
    "            cad=arc.write(file)\n",
    "        else:\n",
    "            cad=arc.write('SPAM')\n",
    "            cad=arc.write(file)"
   ]
  }
 ],
 "metadata": {
  "kernelspec": {
   "display_name": "Python 3",
   "language": "python",
   "name": "python3"
  },
  "language_info": {
   "codemirror_mode": {
    "name": "ipython",
    "version": 3
   },
   "file_extension": ".py",
   "mimetype": "text/x-python",
   "name": "python",
   "nbconvert_exporter": "python",
   "pygments_lexer": "ipython3",
   "version": "3.8.5"
  }
 },
 "nbformat": 4,
 "nbformat_minor": 5
}
