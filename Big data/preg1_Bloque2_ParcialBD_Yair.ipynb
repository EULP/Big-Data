{
 "cells": [
  {
   "cell_type": "markdown",
   "metadata": {},
   "source": [
    "## Nombre: Yair Salinas Bolaños    17200648"
   ]
  },
  {
   "cell_type": "code",
   "execution_count": 35,
   "metadata": {},
   "outputs": [],
   "source": [
    "def proyeccion(ciudad, suburbio):\n",
    "    \n",
    "    L=[]\n",
    "    print('Año','  Ciudad      ','     Suburbio')\n",
    "    for i in range (10):\n",
    "        Ciudad=0.95*ciudad+0.03*suburbio\n",
    "        Suburbio=0.97*suburbio+0.05*ciudad\n",
    "        ciudad=Ciudad\n",
    "        suburbio=Suburbio  \n",
    "        print(2021+i,ciudad,suburbio)\n",
    "        L.append([2021+i,ciudad,suburbio])\n",
    "  \n",
    "    return"
   ]
  },
  {
   "cell_type": "code",
   "execution_count": 36,
   "metadata": {},
   "outputs": [
    {
     "name": "stdout",
     "output_type": "stream",
     "text": [
      "Año   Ciudad            Suburbio\n",
      "2021 582.0 418.0\n",
      "2022 565.4399999999999 434.56\n",
      "2023 550.2047999999999 449.79519999999997\n",
      "2024 536.1884159999998 463.811584\n",
      "2025 523.2933427199998 476.70665727999994\n",
      "2026 511.4298753023998 488.5701246975999\n",
      "2027 500.5154852782078 499.4845147217919\n",
      "2028 490.4742464559511 509.5257535440486\n",
      "2029 481.236306739475 518.7636932605246\n",
      "2030 472.737402200317 527.2625977996827\n"
     ]
    }
   ],
   "source": [
    "proyeccion(600,400)"
   ]
  },
  {
   "cell_type": "code",
   "execution_count": null,
   "metadata": {},
   "outputs": [],
   "source": [
    "arc = open(\"out.txt\",mode='w',encoding='utf-8')\n",
    "arc.write(str(L))  \n",
    "arc.close()"
   ]
  }
 ],
 "metadata": {
  "kernelspec": {
   "display_name": "Python 3",
   "language": "python",
   "name": "python3"
  },
  "language_info": {
   "codemirror_mode": {
    "name": "ipython",
    "version": 3
   },
   "file_extension": ".py",
   "mimetype": "text/x-python",
   "name": "python",
   "nbconvert_exporter": "python",
   "pygments_lexer": "ipython3",
   "version": "3.8.5"
  }
 },
 "nbformat": 4,
 "nbformat_minor": 5
}
